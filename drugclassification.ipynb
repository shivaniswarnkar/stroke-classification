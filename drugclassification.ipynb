{
 "cells": [
  {
   "cell_type": "markdown",
   "id": "0d8cab73",
   "metadata": {},
   "source": [
    "This dataset contains information about drug classification based on patient general information and its diagnosis. Machine learning model is needed in order to predict the outcome of the drugs type that might be suitable for the patient."
   ]
  },
  {
   "cell_type": "markdown",
   "id": "e1e26ce1",
   "metadata": {},
   "source": [
    "-->This notebook aims to:\n",
    "\n",
    "Dataset exploration using various types of data visualization.\n",
    "Build various ML models that can predict drug type.\n",
    "\n",
    "-->The machine learning models used in this project are:\n",
    "\n",
    "Linear Logistic Regression\n",
    "Linear Support Vector Machine (SVM)\n",
    "K Neighbours\n",
    "Naive Bayes (Categorical & Gaussian)\n",
    "Decision Tree\n",
    "Random Forest"
   ]
  },
  {
   "cell_type": "markdown",
   "id": "a4f5efb4",
   "metadata": {},
   "source": [
    "# IMPORTING LIBRARIES\n"
   ]
  },
  {
   "cell_type": "code",
   "execution_count": null,
   "id": "8811bc62",
   "metadata": {},
   "outputs": [],
   "source": [
    "import numpy as np\n",
    "import pandas as pd\n",
    "import seaborn as sns\n",
    "import matplotlib.pyplot as plt\n",
    "%matplotlib inline\n",
    "plt.rcParams[\"figure.figsize\"]=(10,5)"
   ]
  },
  {
   "cell_type": "markdown",
   "id": "5c88b279",
   "metadata": {},
   "source": [
    "# READING DATA SET\n"
   ]
  },
  {
   "cell_type": "code",
   "execution_count": null,
   "id": "4032570b",
   "metadata": {},
   "outputs": [],
   "source": [
    "df = pd.read_csv('drug.csv')"
   ]
  },
  {
   "cell_type": "code",
   "execution_count": 3,
   "id": "caaa18f7",
   "metadata": {},
   "outputs": [
    {
     "data": {
      "text/html": [
       "<div>\n",
       "<style scoped>\n",
       "    .dataframe tbody tr th:only-of-type {\n",
       "        vertical-align: middle;\n",
       "    }\n",
       "\n",
       "    .dataframe tbody tr th {\n",
       "        vertical-align: top;\n",
       "    }\n",
       "\n",
       "    .dataframe thead th {\n",
       "        text-align: right;\n",
       "    }\n",
       "</style>\n",
       "<table border=\"1\" class=\"dataframe\">\n",
       "  <thead>\n",
       "    <tr style=\"text-align: right;\">\n",
       "      <th></th>\n",
       "      <th>Age</th>\n",
       "      <th>Sex</th>\n",
       "      <th>BP</th>\n",
       "      <th>Cholesterol</th>\n",
       "      <th>Na_to_K</th>\n",
       "      <th>Drug</th>\n",
       "    </tr>\n",
       "  </thead>\n",
       "  <tbody>\n",
       "    <tr>\n",
       "      <th>4</th>\n",
       "      <td>61</td>\n",
       "      <td>F</td>\n",
       "      <td>LOW</td>\n",
       "      <td>HIGH</td>\n",
       "      <td>18.043</td>\n",
       "      <td>DrugY</td>\n",
       "    </tr>\n",
       "  </tbody>\n",
       "</table>\n",
       "</div>"
      ],
      "text/plain": [
       "   Age Sex   BP Cholesterol  Na_to_K   Drug\n",
       "4   61   F  LOW        HIGH   18.043  DrugY"
      ]
     },
     "execution_count": 3,
     "metadata": {},
     "output_type": "execute_result"
    }
   ],
   "source": [
    "df.sample()"
   ]
  },
  {
   "cell_type": "markdown",
   "id": "f9aeecce",
   "metadata": {},
   "source": [
    "There are 6 variables in this data set:\n",
    "\n",
    "4 categorical variables,and\n",
    "2 continuous variables."
   ]
  },
  {
   "cell_type": "markdown",
   "id": "2cd6e4c0",
   "metadata": {},
   "source": [
    "# INITIAL DATASET EXPLORATION"
   ]
  },
  {
   "cell_type": "code",
   "execution_count": 4,
   "id": "c792ae37",
   "metadata": {},
   "outputs": [
    {
     "name": "stdout",
     "output_type": "stream",
     "text": [
      "<class 'pandas.core.frame.DataFrame'>\n",
      "RangeIndex: 200 entries, 0 to 199\n",
      "Data columns (total 6 columns):\n",
      " #   Column       Non-Null Count  Dtype  \n",
      "---  ------       --------------  -----  \n",
      " 0   Age          200 non-null    int64  \n",
      " 1   Sex          200 non-null    object \n",
      " 2   BP           200 non-null    object \n",
      " 3   Cholesterol  200 non-null    object \n",
      " 4   Na_to_K      200 non-null    float64\n",
      " 5   Drug         200 non-null    object \n",
      "dtypes: float64(1), int64(1), object(4)\n",
      "memory usage: 9.5+ KB\n"
     ]
    }
   ],
   "source": [
    "#CHCEK DATA TYPE AND NULL VALUES\n",
    "df.info()"
   ]
  },
  {
   "cell_type": "markdown",
   "id": "aeec7a63",
   "metadata": {},
   "source": [
    "NO NULL VALUES"
   ]
  },
  {
   "cell_type": "code",
   "execution_count": 5,
   "id": "d0660eb8",
   "metadata": {},
   "outputs": [
    {
     "data": {
      "text/html": [
       "<div>\n",
       "<style scoped>\n",
       "    .dataframe tbody tr th:only-of-type {\n",
       "        vertical-align: middle;\n",
       "    }\n",
       "\n",
       "    .dataframe tbody tr th {\n",
       "        vertical-align: top;\n",
       "    }\n",
       "\n",
       "    .dataframe thead th {\n",
       "        text-align: right;\n",
       "    }\n",
       "</style>\n",
       "<table border=\"1\" class=\"dataframe\">\n",
       "  <thead>\n",
       "    <tr style=\"text-align: right;\">\n",
       "      <th></th>\n",
       "      <th>Age</th>\n",
       "      <th>Na_to_K</th>\n",
       "    </tr>\n",
       "  </thead>\n",
       "  <tbody>\n",
       "    <tr>\n",
       "      <th>count</th>\n",
       "      <td>200.000000</td>\n",
       "      <td>200.000000</td>\n",
       "    </tr>\n",
       "    <tr>\n",
       "      <th>mean</th>\n",
       "      <td>44.315000</td>\n",
       "      <td>16.084485</td>\n",
       "    </tr>\n",
       "    <tr>\n",
       "      <th>std</th>\n",
       "      <td>16.544315</td>\n",
       "      <td>7.223956</td>\n",
       "    </tr>\n",
       "    <tr>\n",
       "      <th>min</th>\n",
       "      <td>15.000000</td>\n",
       "      <td>6.269000</td>\n",
       "    </tr>\n",
       "    <tr>\n",
       "      <th>25%</th>\n",
       "      <td>31.000000</td>\n",
       "      <td>10.445500</td>\n",
       "    </tr>\n",
       "    <tr>\n",
       "      <th>50%</th>\n",
       "      <td>45.000000</td>\n",
       "      <td>13.936500</td>\n",
       "    </tr>\n",
       "    <tr>\n",
       "      <th>75%</th>\n",
       "      <td>58.000000</td>\n",
       "      <td>19.380000</td>\n",
       "    </tr>\n",
       "    <tr>\n",
       "      <th>max</th>\n",
       "      <td>74.000000</td>\n",
       "      <td>38.247000</td>\n",
       "    </tr>\n",
       "  </tbody>\n",
       "</table>\n",
       "</div>"
      ],
      "text/plain": [
       "              Age     Na_to_K\n",
       "count  200.000000  200.000000\n",
       "mean    44.315000   16.084485\n",
       "std     16.544315    7.223956\n",
       "min     15.000000    6.269000\n",
       "25%     31.000000   10.445500\n",
       "50%     45.000000   13.936500\n",
       "75%     58.000000   19.380000\n",
       "max     74.000000   38.247000"
      ]
     },
     "execution_count": 5,
     "metadata": {},
     "output_type": "execute_result"
    }
   ],
   "source": [
    "#CHECK STATISTICAL VALUES AND SKEWNESS FOR NUMERICAL VARIABLE\n",
    "df.describe()"
   ]
  },
  {
   "cell_type": "code",
   "execution_count": 15,
   "id": "df9e9db8",
   "metadata": {},
   "outputs": [
    {
     "name": "stdout",
     "output_type": "stream",
     "text": [
      "skewness for Age: 0.03030835703000607\n"
     ]
    }
   ],
   "source": [
    "sa=df['Age'].skew(axis=0,skipna=True)\n",
    "print('skewness for Age:',sa)"
   ]
  },
  {
   "cell_type": "code",
   "execution_count": 16,
   "id": "55127f65",
   "metadata": {},
   "outputs": [
    {
     "name": "stdout",
     "output_type": "stream",
     "text": [
      "skewness for Na_to_K: 1.039341186028881\n"
     ]
    }
   ],
   "source": [
    "sn = df['Na_to_K'].skew(axis=0,skipna=True)\n",
    "print('skewness for Na_to_K:',sn)"
   ]
  },
  {
   "cell_type": "code",
   "execution_count": 18,
   "id": "cb7b73a4",
   "metadata": {},
   "outputs": [
    {
     "name": "stderr",
     "output_type": "stream",
     "text": [
      "C:\\Users\\Shikha\\anaconda3\\lib\\site-packages\\seaborn\\distributions.py:2619: FutureWarning: `distplot` is a deprecated function and will be removed in a future version. Please adapt your code to use either `displot` (a figure-level function with similar flexibility) or `histplot` (an axes-level function for histograms).\n",
      "  warnings.warn(msg, FutureWarning)\n"
     ]
    },
    {
     "data": {
      "image/png": "[encoded data removed]",
      "text/plain": [
       "<Figure size 720x360 with 1 Axes>"
      ]
     },
     "metadata": {
      "needs_background": "light"
     },
     "output_type": "display_data"
    }
   ],
   "source": [
    "sns.distplot(df['Age'])\n",
    "plt.show()"
   ]
  },
  {
   "cell_type": "code",
   "execution_count": 19,
   "id": "a9ea5d95",
   "metadata": {},
   "outputs": [
    {
     "name": "stderr",
     "output_type": "stream",
     "text": [
      "C:\\Users\\Shikha\\anaconda3\\lib\\site-packages\\seaborn\\distributions.py:2619: FutureWarning: `distplot` is a deprecated function and will be removed in a future version. Please adapt your code to use either `displot` (a figure-level function with similar flexibility) or `histplot` (an axes-level function for histograms).\n",
      "  warnings.warn(msg, FutureWarning)\n"
     ]
    },
    {
     "data": {
      "image/png": "[encoded data removed]",
      "text/plain": [
       "<Figure size 720x360 with 1 Axes>"
      ]
     },
     "metadata": {
      "needs_background": "light"
     },
     "output_type": "display_data"
    }
   ],
   "source": [
    "sns.distplot(df['Na_to_K'])\n",
    "plt.show()"
   ]
  },
  {
   "cell_type": "markdown",
   "id": "bebff1e7",
   "metadata": {},
   "source": [
    "-->The distribution of Age almost symmetrical as the skewness value lies between -0.5 and 0.5\n",
    "-->The distribution of Na_to_K is moderately right skewed as the skewness value likes between 0.5 and 1 "
   ]
  },
  {
   "cell_type": "markdown",
   "id": "90d64030",
   "metadata": {},
   "source": [
    "#CATEGORICAL VARIABLE"
   ]
  },
  {
   "cell_type": "code",
   "execution_count": 7,
   "id": "4c2a30ec",
   "metadata": {},
   "outputs": [
    {
     "data": {
      "text/plain": [
       "M    104\n",
       "F     96\n",
       "Name: Sex, dtype: int64"
      ]
     },
     "execution_count": 7,
     "metadata": {},
     "output_type": "execute_result"
    }
   ],
   "source": [
    "df['Sex'].value_counts()"
   ]
  },
  {
   "cell_type": "markdown",
   "id": "00d67686",
   "metadata": {},
   "source": [
    "THE DISTRIBUTION OF GENDER IS BALANCED"
   ]
  },
  {
   "cell_type": "code",
   "execution_count": 8,
   "id": "0057ddae",
   "metadata": {},
   "outputs": [
    {
     "data": {
      "text/plain": [
       "HIGH      77\n",
       "LOW       64\n",
       "NORMAL    59\n",
       "Name: BP, dtype: int64"
      ]
     },
     "execution_count": 8,
     "metadata": {},
     "output_type": "execute_result"
    }
   ],
   "source": [
    "df['BP'].value_counts()"
   ]
  },
  {
   "cell_type": "markdown",
   "id": "c05a391b",
   "metadata": {},
   "source": [
    "THE DISTRIBUTION OF BLOOD PRESSURE LEVEL IS BALANCED"
   ]
  },
  {
   "cell_type": "code",
   "execution_count": 9,
   "id": "e6d03c0e",
   "metadata": {},
   "outputs": [
    {
     "data": {
      "text/plain": [
       "HIGH      103\n",
       "NORMAL     97\n",
       "Name: Cholesterol, dtype: int64"
      ]
     },
     "execution_count": 9,
     "metadata": {},
     "output_type": "execute_result"
    }
   ],
   "source": [
    "df['Cholesterol'].value_counts()"
   ]
  },
  {
   "cell_type": "markdown",
   "id": "b527b9c3",
   "metadata": {},
   "source": [
    "THE DISTRIBUTION OF CHOLESTEROL LEVEL IS BALANCED"
   ]
  },
  {
   "cell_type": "code",
   "execution_count": 10,
   "id": "a6833929",
   "metadata": {},
   "outputs": [
    {
     "data": {
      "text/plain": [
       "DrugY    91\n",
       "drugX    54\n",
       "drugA    23\n",
       "drugC    16\n",
       "drugB    16\n",
       "Name: Drug, dtype: int64"
      ]
     },
     "execution_count": 10,
     "metadata": {},
     "output_type": "execute_result"
    }
   ],
   "source": [
    "df['Drug'].value_counts() #TARGET VARIABLE"
   ]
  },
  {
   "cell_type": "markdown",
   "id": "3dd8bfb7",
   "metadata": {},
   "source": [
    "THE DISTRIBUTION OF TARGET VARIABLE SHOWS THAT DrugY IS USED MORE THAN OTHERS"
   ]
  },
  {
   "cell_type": "markdown",
   "id": "344004f4",
   "metadata": {},
   "source": [
    "# EDA\n",
    "This section will explore variables in the dataset using different various plots/charts."
   ]
  },
  {
   "cell_type": "code",
   "execution_count": 21,
   "id": "41c77448",
   "metadata": {},
   "outputs": [
    {
     "data": {
      "image/png": "[encoded data removed]",
      "text/plain": [
       "<Figure size 720x360 with 1 Axes>"
      ]
     },
     "metadata": {},
     "output_type": "display_data"
    }
   ],
   "source": [
    "sns.set_theme(style = 'darkgrid')\n",
    "sns.countplot(y = 'Drug',data = df, palette = 'flare')\n",
    "plt.show()"
   ]
  },
  {
   "cell_type": "code",
   "execution_count": 43,
   "id": "d24af179",
   "metadata": {},
   "outputs": [
    {
     "data": {
      "image/png": "[encoded data removed]",
      "text/plain": [
       "<Figure size 360x288 with 1 Axes>"
      ]
     },
     "metadata": {},
     "output_type": "display_data"
    }
   ],
   "source": [
    "plt.figure(figsize=(5,4))\n",
    "sns.set_theme(style='darkgrid')\n",
    "sns.countplot(x='Sex',data = df,palette='crest')\n",
    "plt.show()"
   ]
  },
  {
   "cell_type": "code",
   "execution_count": 42,
   "id": "2f953295",
   "metadata": {},
   "outputs": [
    {
     "data": {
      "image/png": "[encoded data removed]",
      "text/plain": [
       "<Figure size 360x288 with 1 Axes>"
      ]
     },
     "metadata": {},
     "output_type": "display_data"
    }
   ],
   "source": [
    "plt.figure(figsize=(5,4))\n",
    "sns.set_theme(style='darkgrid')\n",
    "sns.countplot(x='BP',data = df,palette='rocket')\n",
    "plt.show()"
   ]
  },
  {
   "cell_type": "code",
   "execution_count": 25,
   "id": "f07b40bb",
   "metadata": {},
   "outputs": [
    {
     "data": {
      "text/html": [
       "<div>\n",
       "<style scoped>\n",
       "    .dataframe tbody tr th:only-of-type {\n",
       "        vertical-align: middle;\n",
       "    }\n",
       "\n",
       "    .dataframe tbody tr th {\n",
       "        vertical-align: top;\n",
       "    }\n",
       "\n",
       "    .dataframe thead th {\n",
       "        text-align: right;\n",
       "    }\n",
       "</style>\n",
       "<table border=\"1\" class=\"dataframe\">\n",
       "  <thead>\n",
       "    <tr style=\"text-align: right;\">\n",
       "      <th></th>\n",
       "      <th>Age</th>\n",
       "      <th>Sex</th>\n",
       "      <th>BP</th>\n",
       "      <th>Cholesterol</th>\n",
       "      <th>Na_to_K</th>\n",
       "      <th>Drug</th>\n",
       "    </tr>\n",
       "  </thead>\n",
       "  <tbody>\n",
       "    <tr>\n",
       "      <th>156</th>\n",
       "      <td>31</td>\n",
       "      <td>M</td>\n",
       "      <td>HIGH</td>\n",
       "      <td>NORMAL</td>\n",
       "      <td>11.227</td>\n",
       "      <td>drugA</td>\n",
       "    </tr>\n",
       "  </tbody>\n",
       "</table>\n",
       "</div>"
      ],
      "text/plain": [
       "     Age Sex    BP Cholesterol  Na_to_K   Drug\n",
       "156   31   M  HIGH      NORMAL   11.227  drugA"
      ]
     },
     "execution_count": 25,
     "metadata": {},
     "output_type": "execute_result"
    }
   ],
   "source": [
    "df.sample()"
   ]
  },
  {
   "cell_type": "code",
   "execution_count": 53,
   "id": "6812ef7c",
   "metadata": {},
   "outputs": [
    {
     "data": {
      "image/png": "[encoded data removed]",
      "text/plain": [
       "<Figure size 360x288 with 1 Axes>"
      ]
     },
     "metadata": {},
     "output_type": "display_data"
    }
   ],
   "source": [
    "plt.figure(figsize=(5,4))\n",
    "sns.set_theme(style='darkgrid')\n",
    "sns.countplot(x='Cholesterol',data = df,palette='crest')\n",
    "plt.show()"
   ]
  },
  {
   "cell_type": "code",
   "execution_count": 49,
   "id": "d227a60e",
   "metadata": {},
   "outputs": [
    {
     "data": {
      "image/png": "[encoded data removed]",
      "text/plain": [
       "<Figure size 720x360 with 1 Axes>"
      ]
     },
     "metadata": {},
     "output_type": "display_data"
    }
   ],
   "source": [
    "sns.set_theme(style = 'darkgrid')\n",
    "sns.countplot(x = 'Drug',data = df,hue = 'Sex' )\n",
    "plt.show()"
   ]
  },
  {
   "cell_type": "code",
   "execution_count": 50,
   "id": "85f2ab0f",
   "metadata": {},
   "outputs": [
    {
     "data": {
      "image/png": "[encoded data removed]",
      "text/plain": [
       "<Figure size 720x360 with 1 Axes>"
      ]
     },
     "metadata": {},
     "output_type": "display_data"
    }
   ],
   "source": [
    "sns.set_theme(style = 'darkgrid')\n",
    "sns.countplot(x = 'Drug',data = df,hue = 'BP' )\n",
    "plt.show()"
   ]
  },
  {
   "cell_type": "code",
   "execution_count": 51,
   "id": "fa98e8af",
   "metadata": {},
   "outputs": [
    {
     "data": {
      "image/png": "[encoded data removed]",
      "text/plain": [
       "<Figure size 720x360 with 1 Axes>"
      ]
     },
     "metadata": {},
     "output_type": "display_data"
    }
   ],
   "source": [
    "sns.set_theme(style = 'darkgrid')\n",
    "sns.countplot(x = 'Drug',data = df,hue = 'Cholesterol' )\n",
    "plt.show()"
   ]
  },
  {
   "cell_type": "code",
   "execution_count": 59,
   "id": "01089e42",
   "metadata": {},
   "outputs": [
    {
     "data": {
      "image/png": "[encoded data removed]",
      "text/plain": [
       "<Figure size 430.975x360 with 6 Axes>"
      ]
     },
     "metadata": {},
     "output_type": "display_data"
    }
   ],
   "source": [
    "sns.pairplot(df,hue = 'Drug')\n",
    "plt.show()"
   ]
  },
  {
   "cell_type": "markdown",
   "id": "465c0195",
   "metadata": {},
   "source": [
    "# DATA PREPARATION"
   ]
  },
  {
   "cell_type": "code",
   "execution_count": null,
   "id": "9dc97b9c",
   "metadata": {},
   "outputs": [],
   "source": [
    "#DATA BINNING FOR NUMERICAL DATA"
   ]
  },
  {
   "cell_type": "code",
   "execution_count": 61,
   "id": "e846b9c6",
   "metadata": {},
   "outputs": [],
   "source": [
    "min_age = df['Age'].min()\n",
    "max_age = df['Age'].max()"
   ]
  },
  {
   "cell_type": "code",
   "execution_count": 63,
   "id": "c0610148",
   "metadata": {},
   "outputs": [
    {
     "data": {
      "text/plain": [
       "15"
      ]
     },
     "execution_count": 63,
     "metadata": {},
     "output_type": "execute_result"
    }
   ],
   "source": [
    "min_age \n"
   ]
  },
  {
   "cell_type": "code",
   "execution_count": 64,
   "id": "7e3f3ca3",
   "metadata": {},
   "outputs": [
    {
     "data": {
      "text/plain": [
       "74"
      ]
     },
     "execution_count": 64,
     "metadata": {},
     "output_type": "execute_result"
    }
   ],
   "source": [
    "max_age"
   ]
  },
  {
   "cell_type": "code",
   "execution_count": 66,
   "id": "31acab28",
   "metadata": {},
   "outputs": [],
   "source": [
    "binss = np.linspace(min_age,max_age,8)\n",
    "category_age = ['<20s', '20s', '30s', '40s', '50s', '60s', '>60s']\n",
    "df['Age_binned'] = pd.cut(df['Age'],bins=binss,labels=category_age)"
   ]
  },
  {
   "cell_type": "code",
   "execution_count": 68,
   "id": "d242b83c",
   "metadata": {},
   "outputs": [
    {
     "data": {
      "text/plain": [
       "30s     35\n",
       "50s     32\n",
       "40s     28\n",
       "60s     27\n",
       "<20s    26\n",
       ">60s    26\n",
       "20s     23\n",
       "Name: Age_binned, dtype: int64"
      ]
     },
     "execution_count": 68,
     "metadata": {},
     "output_type": "execute_result"
    }
   ],
   "source": [
    "df['Age_binned'].value_counts()"
   ]
  },
  {
   "cell_type": "code",
   "execution_count": 69,
   "id": "cf0ef748",
   "metadata": {},
   "outputs": [],
   "source": [
    "df.drop('Age',axis=1,inplace=True)"
   ]
  },
  {
   "cell_type": "code",
   "execution_count": 73,
   "id": "3e29f4f3",
   "metadata": {},
   "outputs": [],
   "source": [
    "min_NatoK = df['Na_to_K'].min()\n",
    "max_NatoK = df['Na_to_K'].max()"
   ]
  },
  {
   "cell_type": "code",
   "execution_count": 75,
   "id": "0851e119",
   "metadata": {},
   "outputs": [],
   "source": [
    "binsss = np.linspace(min_NatoK,max_NatoK,5)\n",
    "category_NatoK = ['<10', '10-20', '20-30', '>30']\n",
    "df['Natok_binned'] = pd.cut(df['Na_to_K'],bins=binsss,labels=category_NatoK)"
   ]
  },
  {
   "cell_type": "code",
   "execution_count": 76,
   "id": "8eb9d1f5",
   "metadata": {},
   "outputs": [
    {
     "data": {
      "text/plain": [
       "<10      107\n",
       "10-20     52\n",
       "20-30     28\n",
       ">30       12\n",
       "Name: Natok_binned, dtype: int64"
      ]
     },
     "execution_count": 76,
     "metadata": {},
     "output_type": "execute_result"
    }
   ],
   "source": [
    "df['Natok_binned'].value_counts()"
   ]
  },
  {
   "cell_type": "code",
   "execution_count": 77,
   "id": "f48eee51",
   "metadata": {},
   "outputs": [],
   "source": [
    "df.drop('Na_to_K',axis=1,inplace=True)"
   ]
  },
  {
   "cell_type": "code",
   "execution_count": 78,
   "id": "a35de78b",
   "metadata": {},
   "outputs": [
    {
     "data": {
      "text/html": [
       "<div>\n",
       "<style scoped>\n",
       "    .dataframe tbody tr th:only-of-type {\n",
       "        vertical-align: middle;\n",
       "    }\n",
       "\n",
       "    .dataframe tbody tr th {\n",
       "        vertical-align: top;\n",
       "    }\n",
       "\n",
       "    .dataframe thead th {\n",
       "        text-align: right;\n",
       "    }\n",
       "</style>\n",
       "<table border=\"1\" class=\"dataframe\">\n",
       "  <thead>\n",
       "    <tr style=\"text-align: right;\">\n",
       "      <th></th>\n",
       "      <th>Sex</th>\n",
       "      <th>BP</th>\n",
       "      <th>Cholesterol</th>\n",
       "      <th>Drug</th>\n",
       "      <th>Age_binned</th>\n",
       "      <th>Natok_binned</th>\n",
       "    </tr>\n",
       "  </thead>\n",
       "  <tbody>\n",
       "    <tr>\n",
       "      <th>0</th>\n",
       "      <td>F</td>\n",
       "      <td>HIGH</td>\n",
       "      <td>HIGH</td>\n",
       "      <td>DrugY</td>\n",
       "      <td>&lt;20s</td>\n",
       "      <td>20-30</td>\n",
       "    </tr>\n",
       "    <tr>\n",
       "      <th>1</th>\n",
       "      <td>M</td>\n",
       "      <td>LOW</td>\n",
       "      <td>HIGH</td>\n",
       "      <td>drugC</td>\n",
       "      <td>40s</td>\n",
       "      <td>&lt;10</td>\n",
       "    </tr>\n",
       "    <tr>\n",
       "      <th>2</th>\n",
       "      <td>M</td>\n",
       "      <td>LOW</td>\n",
       "      <td>HIGH</td>\n",
       "      <td>drugC</td>\n",
       "      <td>40s</td>\n",
       "      <td>&lt;10</td>\n",
       "    </tr>\n",
       "    <tr>\n",
       "      <th>3</th>\n",
       "      <td>F</td>\n",
       "      <td>NORMAL</td>\n",
       "      <td>HIGH</td>\n",
       "      <td>drugX</td>\n",
       "      <td>20s</td>\n",
       "      <td>&lt;10</td>\n",
       "    </tr>\n",
       "    <tr>\n",
       "      <th>4</th>\n",
       "      <td>F</td>\n",
       "      <td>LOW</td>\n",
       "      <td>HIGH</td>\n",
       "      <td>DrugY</td>\n",
       "      <td>60s</td>\n",
       "      <td>10-20</td>\n",
       "    </tr>\n",
       "  </tbody>\n",
       "</table>\n",
       "</div>"
      ],
      "text/plain": [
       "  Sex      BP Cholesterol   Drug Age_binned Natok_binned\n",
       "0   F    HIGH        HIGH  DrugY       <20s        20-30\n",
       "1   M     LOW        HIGH  drugC        40s          <10\n",
       "2   M     LOW        HIGH  drugC        40s          <10\n",
       "3   F  NORMAL        HIGH  drugX        20s          <10\n",
       "4   F     LOW        HIGH  DrugY        60s        10-20"
      ]
     },
     "execution_count": 78,
     "metadata": {},
     "output_type": "execute_result"
    }
   ],
   "source": [
    "df.head()"
   ]
  },
  {
   "cell_type": "markdown",
   "id": "ea660e8e",
   "metadata": {},
   "source": [
    "# SPLITTING THE DATASET"
   ]
  },
  {
   "cell_type": "code",
   "execution_count": 79,
   "id": "1cfc42a0",
   "metadata": {},
   "outputs": [],
   "source": [
    "from sklearn.metrics import confusion_matrix\n",
    "from sklearn.metrics import classification_report"
   ]
  },
  {
   "cell_type": "code",
   "execution_count": 80,
   "id": "bd6ba800",
   "metadata": {},
   "outputs": [],
   "source": [
    "X = df.drop([\"Drug\"], axis=1)\n",
    "y = df[\"Drug\"]\n",
    "\n",
    "from sklearn.model_selection import train_test_split\n",
    "X_train, X_test, y_train, y_test = train_test_split(X, y, test_size = 0.3, random_state = 0)"
   ]
  },
  {
   "cell_type": "markdown",
   "id": "7de97996",
   "metadata": {},
   "source": [
    "# FEATURE ENGINEERING"
   ]
  },
  {
   "cell_type": "code",
   "execution_count": 81,
   "id": "a6efdf61",
   "metadata": {},
   "outputs": [],
   "source": [
    "X_train = pd.get_dummies(X_train)\n",
    "X_test = pd.get_dummies(X_test)"
   ]
  },
  {
   "cell_type": "code",
   "execution_count": 82,
   "id": "846e0623",
   "metadata": {},
   "outputs": [
    {
     "data": {
      "text/html": [
       "<div>\n",
       "<style scoped>\n",
       "    .dataframe tbody tr th:only-of-type {\n",
       "        vertical-align: middle;\n",
       "    }\n",
       "\n",
       "    .dataframe tbody tr th {\n",
       "        vertical-align: top;\n",
       "    }\n",
       "\n",
       "    .dataframe thead th {\n",
       "        text-align: right;\n",
       "    }\n",
       "</style>\n",
       "<table border=\"1\" class=\"dataframe\">\n",
       "  <thead>\n",
       "    <tr style=\"text-align: right;\">\n",
       "      <th></th>\n",
       "      <th>Sex_F</th>\n",
       "      <th>Sex_M</th>\n",
       "      <th>BP_HIGH</th>\n",
       "      <th>BP_LOW</th>\n",
       "      <th>BP_NORMAL</th>\n",
       "      <th>Cholesterol_HIGH</th>\n",
       "      <th>Cholesterol_NORMAL</th>\n",
       "      <th>Age_binned_&lt;20s</th>\n",
       "      <th>Age_binned_20s</th>\n",
       "      <th>Age_binned_30s</th>\n",
       "      <th>Age_binned_40s</th>\n",
       "      <th>Age_binned_50s</th>\n",
       "      <th>Age_binned_60s</th>\n",
       "      <th>Age_binned_&gt;60s</th>\n",
       "      <th>Natok_binned_&lt;10</th>\n",
       "      <th>Natok_binned_10-20</th>\n",
       "      <th>Natok_binned_20-30</th>\n",
       "      <th>Natok_binned_&gt;30</th>\n",
       "    </tr>\n",
       "  </thead>\n",
       "  <tbody>\n",
       "    <tr>\n",
       "      <th>131</th>\n",
       "      <td>0</td>\n",
       "      <td>1</td>\n",
       "      <td>0</td>\n",
       "      <td>1</td>\n",
       "      <td>0</td>\n",
       "      <td>0</td>\n",
       "      <td>1</td>\n",
       "      <td>0</td>\n",
       "      <td>0</td>\n",
       "      <td>0</td>\n",
       "      <td>0</td>\n",
       "      <td>1</td>\n",
       "      <td>0</td>\n",
       "      <td>0</td>\n",
       "      <td>0</td>\n",
       "      <td>0</td>\n",
       "      <td>0</td>\n",
       "      <td>1</td>\n",
       "    </tr>\n",
       "    <tr>\n",
       "      <th>96</th>\n",
       "      <td>1</td>\n",
       "      <td>0</td>\n",
       "      <td>0</td>\n",
       "      <td>1</td>\n",
       "      <td>0</td>\n",
       "      <td>1</td>\n",
       "      <td>0</td>\n",
       "      <td>0</td>\n",
       "      <td>0</td>\n",
       "      <td>0</td>\n",
       "      <td>0</td>\n",
       "      <td>0</td>\n",
       "      <td>1</td>\n",
       "      <td>0</td>\n",
       "      <td>0</td>\n",
       "      <td>0</td>\n",
       "      <td>0</td>\n",
       "      <td>1</td>\n",
       "    </tr>\n",
       "    <tr>\n",
       "      <th>181</th>\n",
       "      <td>1</td>\n",
       "      <td>0</td>\n",
       "      <td>0</td>\n",
       "      <td>0</td>\n",
       "      <td>1</td>\n",
       "      <td>1</td>\n",
       "      <td>0</td>\n",
       "      <td>0</td>\n",
       "      <td>0</td>\n",
       "      <td>0</td>\n",
       "      <td>0</td>\n",
       "      <td>0</td>\n",
       "      <td>1</td>\n",
       "      <td>0</td>\n",
       "      <td>1</td>\n",
       "      <td>0</td>\n",
       "      <td>0</td>\n",
       "      <td>0</td>\n",
       "    </tr>\n",
       "    <tr>\n",
       "      <th>19</th>\n",
       "      <td>1</td>\n",
       "      <td>0</td>\n",
       "      <td>1</td>\n",
       "      <td>0</td>\n",
       "      <td>0</td>\n",
       "      <td>0</td>\n",
       "      <td>1</td>\n",
       "      <td>0</td>\n",
       "      <td>0</td>\n",
       "      <td>1</td>\n",
       "      <td>0</td>\n",
       "      <td>0</td>\n",
       "      <td>0</td>\n",
       "      <td>0</td>\n",
       "      <td>0</td>\n",
       "      <td>0</td>\n",
       "      <td>1</td>\n",
       "      <td>0</td>\n",
       "    </tr>\n",
       "    <tr>\n",
       "      <th>153</th>\n",
       "      <td>1</td>\n",
       "      <td>0</td>\n",
       "      <td>0</td>\n",
       "      <td>1</td>\n",
       "      <td>0</td>\n",
       "      <td>0</td>\n",
       "      <td>1</td>\n",
       "      <td>0</td>\n",
       "      <td>0</td>\n",
       "      <td>0</td>\n",
       "      <td>0</td>\n",
       "      <td>0</td>\n",
       "      <td>0</td>\n",
       "      <td>1</td>\n",
       "      <td>0</td>\n",
       "      <td>1</td>\n",
       "      <td>0</td>\n",
       "      <td>0</td>\n",
       "    </tr>\n",
       "  </tbody>\n",
       "</table>\n",
       "</div>"
      ],
      "text/plain": [
       "     Sex_F  Sex_M  BP_HIGH  BP_LOW  BP_NORMAL  Cholesterol_HIGH  \\\n",
       "131      0      1        0       1          0                 0   \n",
       "96       1      0        0       1          0                 1   \n",
       "181      1      0        0       0          1                 1   \n",
       "19       1      0        1       0          0                 0   \n",
       "153      1      0        0       1          0                 0   \n",
       "\n",
       "     Cholesterol_NORMAL  Age_binned_<20s  Age_binned_20s  Age_binned_30s  \\\n",
       "131                   1                0               0               0   \n",
       "96                    0                0               0               0   \n",
       "181                   0                0               0               0   \n",
       "19                    1                0               0               1   \n",
       "153                   1                0               0               0   \n",
       "\n",
       "     Age_binned_40s  Age_binned_50s  Age_binned_60s  Age_binned_>60s  \\\n",
       "131               0               1               0                0   \n",
       "96                0               0               1                0   \n",
       "181               0               0               1                0   \n",
       "19                0               0               0                0   \n",
       "153               0               0               0                1   \n",
       "\n",
       "     Natok_binned_<10  Natok_binned_10-20  Natok_binned_20-30  \\\n",
       "131                 0                   0                   0   \n",
       "96                  0                   0                   0   \n",
       "181                 1                   0                   0   \n",
       "19                  0                   0                   1   \n",
       "153                 0                   1                   0   \n",
       "\n",
       "     Natok_binned_>30  \n",
       "131                 1  \n",
       "96                  1  \n",
       "181                 0  \n",
       "19                  0  \n",
       "153                 0  "
      ]
     },
     "execution_count": 82,
     "metadata": {},
     "output_type": "execute_result"
    }
   ],
   "source": [
    "X_train.head()"
   ]
  },
  {
   "cell_type": "code",
   "execution_count": 83,
   "id": "0e4050fd",
   "metadata": {},
   "outputs": [
    {
     "data": {
      "text/html": [
       "<div>\n",
       "<style scoped>\n",
       "    .dataframe tbody tr th:only-of-type {\n",
       "        vertical-align: middle;\n",
       "    }\n",
       "\n",
       "    .dataframe tbody tr th {\n",
       "        vertical-align: top;\n",
       "    }\n",
       "\n",
       "    .dataframe thead th {\n",
       "        text-align: right;\n",
       "    }\n",
       "</style>\n",
       "<table border=\"1\" class=\"dataframe\">\n",
       "  <thead>\n",
       "    <tr style=\"text-align: right;\">\n",
       "      <th></th>\n",
       "      <th>Sex_F</th>\n",
       "      <th>Sex_M</th>\n",
       "      <th>BP_HIGH</th>\n",
       "      <th>BP_LOW</th>\n",
       "      <th>BP_NORMAL</th>\n",
       "      <th>Cholesterol_HIGH</th>\n",
       "      <th>Cholesterol_NORMAL</th>\n",
       "      <th>Age_binned_&lt;20s</th>\n",
       "      <th>Age_binned_20s</th>\n",
       "      <th>Age_binned_30s</th>\n",
       "      <th>Age_binned_40s</th>\n",
       "      <th>Age_binned_50s</th>\n",
       "      <th>Age_binned_60s</th>\n",
       "      <th>Age_binned_&gt;60s</th>\n",
       "      <th>Natok_binned_&lt;10</th>\n",
       "      <th>Natok_binned_10-20</th>\n",
       "      <th>Natok_binned_20-30</th>\n",
       "      <th>Natok_binned_&gt;30</th>\n",
       "    </tr>\n",
       "  </thead>\n",
       "  <tbody>\n",
       "    <tr>\n",
       "      <th>18</th>\n",
       "      <td>0</td>\n",
       "      <td>1</td>\n",
       "      <td>0</td>\n",
       "      <td>1</td>\n",
       "      <td>0</td>\n",
       "      <td>1</td>\n",
       "      <td>0</td>\n",
       "      <td>1</td>\n",
       "      <td>0</td>\n",
       "      <td>0</td>\n",
       "      <td>0</td>\n",
       "      <td>0</td>\n",
       "      <td>0</td>\n",
       "      <td>0</td>\n",
       "      <td>1</td>\n",
       "      <td>0</td>\n",
       "      <td>0</td>\n",
       "      <td>0</td>\n",
       "    </tr>\n",
       "    <tr>\n",
       "      <th>170</th>\n",
       "      <td>1</td>\n",
       "      <td>0</td>\n",
       "      <td>0</td>\n",
       "      <td>0</td>\n",
       "      <td>1</td>\n",
       "      <td>1</td>\n",
       "      <td>0</td>\n",
       "      <td>0</td>\n",
       "      <td>1</td>\n",
       "      <td>0</td>\n",
       "      <td>0</td>\n",
       "      <td>0</td>\n",
       "      <td>0</td>\n",
       "      <td>0</td>\n",
       "      <td>1</td>\n",
       "      <td>0</td>\n",
       "      <td>0</td>\n",
       "      <td>0</td>\n",
       "    </tr>\n",
       "    <tr>\n",
       "      <th>107</th>\n",
       "      <td>0</td>\n",
       "      <td>1</td>\n",
       "      <td>0</td>\n",
       "      <td>1</td>\n",
       "      <td>0</td>\n",
       "      <td>1</td>\n",
       "      <td>0</td>\n",
       "      <td>0</td>\n",
       "      <td>0</td>\n",
       "      <td>0</td>\n",
       "      <td>1</td>\n",
       "      <td>0</td>\n",
       "      <td>0</td>\n",
       "      <td>0</td>\n",
       "      <td>0</td>\n",
       "      <td>1</td>\n",
       "      <td>0</td>\n",
       "      <td>0</td>\n",
       "    </tr>\n",
       "    <tr>\n",
       "      <th>98</th>\n",
       "      <td>0</td>\n",
       "      <td>1</td>\n",
       "      <td>1</td>\n",
       "      <td>0</td>\n",
       "      <td>0</td>\n",
       "      <td>0</td>\n",
       "      <td>1</td>\n",
       "      <td>1</td>\n",
       "      <td>0</td>\n",
       "      <td>0</td>\n",
       "      <td>0</td>\n",
       "      <td>0</td>\n",
       "      <td>0</td>\n",
       "      <td>0</td>\n",
       "      <td>0</td>\n",
       "      <td>0</td>\n",
       "      <td>0</td>\n",
       "      <td>1</td>\n",
       "    </tr>\n",
       "    <tr>\n",
       "      <th>177</th>\n",
       "      <td>0</td>\n",
       "      <td>1</td>\n",
       "      <td>0</td>\n",
       "      <td>0</td>\n",
       "      <td>1</td>\n",
       "      <td>1</td>\n",
       "      <td>0</td>\n",
       "      <td>0</td>\n",
       "      <td>1</td>\n",
       "      <td>0</td>\n",
       "      <td>0</td>\n",
       "      <td>0</td>\n",
       "      <td>0</td>\n",
       "      <td>0</td>\n",
       "      <td>0</td>\n",
       "      <td>1</td>\n",
       "      <td>0</td>\n",
       "      <td>0</td>\n",
       "    </tr>\n",
       "  </tbody>\n",
       "</table>\n",
       "</div>"
      ],
      "text/plain": [
       "     Sex_F  Sex_M  BP_HIGH  BP_LOW  BP_NORMAL  Cholesterol_HIGH  \\\n",
       "18       0      1        0       1          0                 1   \n",
       "170      1      0        0       0          1                 1   \n",
       "107      0      1        0       1          0                 1   \n",
       "98       0      1        1       0          0                 0   \n",
       "177      0      1        0       0          1                 1   \n",
       "\n",
       "     Cholesterol_NORMAL  Age_binned_<20s  Age_binned_20s  Age_binned_30s  \\\n",
       "18                    0                1               0               0   \n",
       "170                   0                0               1               0   \n",
       "107                   0                0               0               0   \n",
       "98                    1                1               0               0   \n",
       "177                   0                0               1               0   \n",
       "\n",
       "     Age_binned_40s  Age_binned_50s  Age_binned_60s  Age_binned_>60s  \\\n",
       "18                0               0               0                0   \n",
       "170               0               0               0                0   \n",
       "107               1               0               0                0   \n",
       "98                0               0               0                0   \n",
       "177               0               0               0                0   \n",
       "\n",
       "     Natok_binned_<10  Natok_binned_10-20  Natok_binned_20-30  \\\n",
       "18                  1                   0                   0   \n",
       "170                 1                   0                   0   \n",
       "107                 0                   1                   0   \n",
       "98                  0                   0                   0   \n",
       "177                 0                   1                   0   \n",
       "\n",
       "     Natok_binned_>30  \n",
       "18                  0  \n",
       "170                 0  \n",
       "107                 0  \n",
       "98                  1  \n",
       "177                 0  "
      ]
     },
     "execution_count": 83,
     "metadata": {},
     "output_type": "execute_result"
    }
   ],
   "source": [
    "X_test.head()"
   ]
  },
  {
   "cell_type": "markdown",
   "id": "f90df0c8",
   "metadata": {},
   "source": [
    "# SMOTE Technique \n",
    "Since the number of 'DrugY' is more than other types of drugs, oversampling is carried out to avoid overfitting."
   ]
  },
  {
   "cell_type": "code",
   "execution_count": 84,
   "id": "5b6593c5",
   "metadata": {},
   "outputs": [],
   "source": [
    "from imblearn.over_sampling import SMOTE\n",
    "X_train, y_train = SMOTE().fit_resample(X_train, y_train)"
   ]
  },
  {
   "cell_type": "code",
   "execution_count": 86,
   "id": "fbb020d2",
   "metadata": {},
   "outputs": [
    {
     "data": {
      "image/png": "[encoded data removed]",
      "text/plain": [
       "<Figure size 720x360 with 1 Axes>"
      ]
     },
     "metadata": {},
     "output_type": "display_data"
    }
   ],
   "source": [
    "sns.set_theme(style=\"darkgrid\")\n",
    "sns.countplot(y=y_train, data=df, palette=\"mako_r\")\n",
    "plt.ylabel('Drug Type')\n",
    "plt.xlabel('Total')\n",
    "plt.show()"
   ]
  },
  {
   "cell_type": "markdown",
   "id": "e0d4e1d8",
   "metadata": {},
   "source": [
    "# MODELING"
   ]
  },
  {
   "cell_type": "markdown",
   "id": "17d9e035",
   "metadata": {},
   "source": [
    "-->Logistic Regression"
   ]
  },
  {
   "cell_type": "code",
   "execution_count": 103,
   "id": "c042f95d",
   "metadata": {},
   "outputs": [
    {
     "name": "stdout",
     "output_type": "stream",
     "text": [
      "              precision    recall  f1-score   support\n",
      "\n",
      "       DrugY       1.00      0.97      0.98        30\n",
      "       drugA       0.71      1.00      0.83         5\n",
      "       drugB       1.00      0.67      0.80         3\n",
      "       drugC       1.00      1.00      1.00         4\n",
      "       drugX       1.00      1.00      1.00        18\n",
      "\n",
      "    accuracy                           0.97        60\n",
      "   macro avg       0.94      0.93      0.92        60\n",
      "weighted avg       0.98      0.97      0.97        60\n",
      "\n",
      "[[29  1  0  0  0]\n",
      " [ 0  5  0  0  0]\n",
      " [ 0  1  2  0  0]\n",
      " [ 0  0  0  4  0]\n",
      " [ 0  0  0  0 18]]\n",
      "Logistic Regression accuracy is : 96.67%\n"
     ]
    },
    {
     "name": "stderr",
     "output_type": "stream",
     "text": [
      "C:\\Users\\Shikha\\anaconda3\\lib\\site-packages\\sklearn\\linear_model\\_logistic.py:444: ConvergenceWarning: lbfgs failed to converge (status=1):\n",
      "STOP: TOTAL NO. of ITERATIONS REACHED LIMIT.\n",
      "\n",
      "Increase the number of iterations (max_iter) or scale the data as shown in:\n",
      "    https://scikit-learn.org/stable/modules/preprocessing.html\n",
      "Please also refer to the documentation for alternative solver options:\n",
      "    https://scikit-learn.org/stable/modules/linear_model.html#logistic-regression\n",
      "  n_iter_i = _check_optimize_result(\n"
     ]
    }
   ],
   "source": [
    "from sklearn.linear_model import LogisticRegression\n",
    "lr =LogisticRegression()\n",
    "lr.fit(X_train,y_train)\n",
    "pred = lr.predict(X_test)\n",
    "print(classification_report(y_test,pred))\n",
    "print(confusion_matrix(y_test,pred))\n",
    "from sklearn.metrics import accuracy_score\n",
    "LRAcc = accuracy_score(y_test,pred)\n",
    "print(\"Logistic Regression accuracy is : {:.2f}%\".format(accuracy_score(y_test,pred)*100))"
   ]
  },
  {
   "cell_type": "markdown",
   "id": "57eb3ece",
   "metadata": {},
   "source": [
    "-->K Neighbours"
   ]
  },
  {
   "cell_type": "code",
   "execution_count": 104,
   "id": "723d09d3",
   "metadata": {},
   "outputs": [
    {
     "name": "stdout",
     "output_type": "stream",
     "text": [
      "              precision    recall  f1-score   support\n",
      "\n",
      "       DrugY       1.00      0.97      0.98        30\n",
      "       drugA       0.62      1.00      0.77         5\n",
      "       drugB       1.00      0.33      0.50         3\n",
      "       drugC       1.00      1.00      1.00         4\n",
      "       drugX       1.00      1.00      1.00        18\n",
      "\n",
      "    accuracy                           0.95        60\n",
      "   macro avg       0.93      0.86      0.85        60\n",
      "weighted avg       0.97      0.95      0.95        60\n",
      "\n",
      "[[29  1  0  0  0]\n",
      " [ 0  5  0  0  0]\n",
      " [ 0  2  1  0  0]\n",
      " [ 0  0  0  4  0]\n",
      " [ 0  0  0  0 18]]\n",
      "K Neighbors accuracy is : 95.00%\n"
     ]
    }
   ],
   "source": [
    "from sklearn.neighbors import KNeighborsClassifier\n",
    "k = KNeighborsClassifier(n_neighbors=20)\n",
    "k.fit(X_train,y_train)\n",
    "pred1 = k.predict(X_test)\n",
    "print(classification_report(y_test,pred1))\n",
    "print(confusion_matrix(y_test,pred1))\n",
    "KNAcc = accuracy_score(y_test,pred1)\n",
    "print(\"K Neighbors accuracy is : {:.2f}%\".format(accuracy_score(y_test,pred1)*100))"
   ]
  },
  {
   "cell_type": "markdown",
   "id": "3dfe7b26",
   "metadata": {},
   "source": [
    "-->Support Vector Machine (SVM)"
   ]
  },
  {
   "cell_type": "code",
   "execution_count": 105,
   "id": "e50a5e37",
   "metadata": {},
   "outputs": [
    {
     "name": "stdout",
     "output_type": "stream",
     "text": [
      "              precision    recall  f1-score   support\n",
      "\n",
      "       DrugY       1.00      1.00      1.00        30\n",
      "       drugA       1.00      0.80      0.89         5\n",
      "       drugB       0.75      1.00      0.86         3\n",
      "       drugC       1.00      1.00      1.00         4\n",
      "       drugX       1.00      1.00      1.00        18\n",
      "\n",
      "    accuracy                           0.98        60\n",
      "   macro avg       0.95      0.96      0.95        60\n",
      "weighted avg       0.99      0.98      0.98        60\n",
      "\n",
      "SVC accuracy is : 98.33%\n"
     ]
    }
   ],
   "source": [
    "from sklearn.svm import SVC\n",
    "s1 = SVC(kernel='linear')\n",
    "s1.fit(X_train,y_train)\n",
    "pred2 = s1.predict(X_test)\n",
    "print(classification_report(y_test,pred2))\n",
    "SVCAcc = accuracy_score(y_test,pred2)\n",
    "print(\"SVC accuracy is : {:.2f}%\".format(accuracy_score(y_test,pred2)*100))"
   ]
  },
  {
   "cell_type": "markdown",
   "id": "3d9a72f4",
   "metadata": {},
   "source": [
    "-->Naive Bayes"
   ]
  },
  {
   "cell_type": "code",
   "execution_count": 98,
   "id": "262c1f35",
   "metadata": {},
   "outputs": [
    {
     "name": "stdout",
     "output_type": "stream",
     "text": [
      "              precision    recall  f1-score   support\n",
      "\n",
      "       DrugY       1.00      1.00      1.00        30\n",
      "       drugA       1.00      0.80      0.89         5\n",
      "       drugB       0.75      1.00      0.86         3\n",
      "       drugC       1.00      1.00      1.00         4\n",
      "       drugX       1.00      1.00      1.00        18\n",
      "\n",
      "    accuracy                           0.98        60\n",
      "   macro avg       0.95      0.96      0.95        60\n",
      "weighted avg       0.99      0.98      0.98        60\n",
      "\n",
      "[[30  0  0  0  0]\n",
      " [ 0  4  1  0  0]\n",
      " [ 0  0  3  0  0]\n",
      " [ 0  0  0  4  0]\n",
      " [ 0  0  0  0 18]]\n",
      "Naive Bayes accuracy is: 98.33%\n"
     ]
    }
   ],
   "source": [
    "from sklearn.naive_bayes import CategoricalNB\n",
    "NBclassifier1 = CategoricalNB()\n",
    "NBclassifier1.fit(X_train, y_train)\n",
    "\n",
    "y_pred = NBclassifier1.predict(X_test)\n",
    "\n",
    "print(classification_report(y_test, y_pred))\n",
    "print(confusion_matrix(y_test, y_pred))\n",
    "NBAcc1 = accuracy_score(y_pred,y_test)\n",
    "print('Naive Bayes accuracy is: {:.2f}%'.format(NBAcc1*100))"
   ]
  },
  {
   "cell_type": "code",
   "execution_count": 99,
   "id": "c0ff4599",
   "metadata": {},
   "outputs": [
    {
     "name": "stdout",
     "output_type": "stream",
     "text": [
      "              precision    recall  f1-score   support\n",
      "\n",
      "       DrugY       1.00      1.00      1.00        30\n",
      "       drugA       1.00      0.80      0.89         5\n",
      "       drugB       0.75      1.00      0.86         3\n",
      "       drugC       1.00      1.00      1.00         4\n",
      "       drugX       1.00      1.00      1.00        18\n",
      "\n",
      "    accuracy                           0.98        60\n",
      "   macro avg       0.95      0.96      0.95        60\n",
      "weighted avg       0.99      0.98      0.98        60\n",
      "\n",
      "[[30  0  0  0  0]\n",
      " [ 0  4  1  0  0]\n",
      " [ 0  0  3  0  0]\n",
      " [ 0  0  0  4  0]\n",
      " [ 0  0  0  0 18]]\n",
      "Gaussian Naive Bayes accuracy is: 98.33%\n"
     ]
    }
   ],
   "source": [
    "from sklearn.naive_bayes import GaussianNB\n",
    "NBclassifier2 = GaussianNB()\n",
    "NBclassifier2.fit(X_train, y_train)\n",
    "\n",
    "y_pred = NBclassifier2.predict(X_test)\n",
    "\n",
    "print(classification_report(y_test, y_pred))\n",
    "print(confusion_matrix(y_test, y_pred))\n",
    "NBAcc2 = accuracy_score(y_pred,y_test)\n",
    "print('Gaussian Naive Bayes accuracy is: {:.2f}%'.format(NBAcc2*100))"
   ]
  },
  {
   "cell_type": "markdown",
   "id": "cb4186f0",
   "metadata": {},
   "source": [
    "-->Decision Tree"
   ]
  },
  {
   "cell_type": "code",
   "execution_count": 106,
   "id": "8f28450e",
   "metadata": {},
   "outputs": [
    {
     "name": "stdout",
     "output_type": "stream",
     "text": [
      "              precision    recall  f1-score   support\n",
      "\n",
      "       DrugY       1.00      0.97      0.98        30\n",
      "       drugA       0.80      0.80      0.80         5\n",
      "       drugB       0.75      1.00      0.86         3\n",
      "       drugC       1.00      1.00      1.00         4\n",
      "       drugX       1.00      1.00      1.00        18\n",
      "\n",
      "    accuracy                           0.97        60\n",
      "   macro avg       0.91      0.95      0.93        60\n",
      "weighted avg       0.97      0.97      0.97        60\n",
      "\n",
      "[[29  1  0  0  0]\n",
      " [ 0  4  1  0  0]\n",
      " [ 0  0  3  0  0]\n",
      " [ 0  0  0  4  0]\n",
      " [ 0  0  0  0 18]]\n",
      "Decision tress accuracy is : 96.67%\n"
     ]
    }
   ],
   "source": [
    "from sklearn.tree import DecisionTreeClassifier\n",
    "d = DecisionTreeClassifier()\n",
    "d.fit(X_train,y_train)\n",
    "pred3 = d.predict(X_test)\n",
    "print(classification_report(y_test,pred3))\n",
    "print(confusion_matrix(y_test,pred3))\n",
    "DTAcc = accuracy_score(y_test,pred3)\n",
    "print(\"Decision tress accuracy is : {:.2f}%\".format(accuracy_score(y_test,pred3)*100))"
   ]
  },
  {
   "cell_type": "markdown",
   "id": "1edde6b3",
   "metadata": {},
   "source": [
    "-->Random Forest"
   ]
  },
  {
   "cell_type": "code",
   "execution_count": 102,
   "id": "c214f2a1",
   "metadata": {},
   "outputs": [
    {
     "name": "stdout",
     "output_type": "stream",
     "text": [
      "              precision    recall  f1-score   support\n",
      "\n",
      "       DrugY       1.00      1.00      1.00        30\n",
      "       drugA       1.00      0.80      0.89         5\n",
      "       drugB       0.75      1.00      0.86         3\n",
      "       drugC       1.00      1.00      1.00         4\n",
      "       drugX       1.00      1.00      1.00        18\n",
      "\n",
      "    accuracy                           0.98        60\n",
      "   macro avg       0.95      0.96      0.95        60\n",
      "weighted avg       0.99      0.98      0.98        60\n",
      "\n",
      "[[30  0  0  0  0]\n",
      " [ 0  4  1  0  0]\n",
      " [ 0  0  3  0  0]\n",
      " [ 0  0  0  4  0]\n",
      " [ 0  0  0  0 18]]\n",
      "Random Forest accuracy is: 98.33%\n"
     ]
    }
   ],
   "source": [
    "from sklearn.ensemble import RandomForestClassifier\n",
    "\n",
    "RFclassifier = RandomForestClassifier(max_leaf_nodes=30)\n",
    "RFclassifier.fit(X_train, y_train)\n",
    "\n",
    "y_pred = RFclassifier.predict(X_test)\n",
    "\n",
    "print(classification_report(y_test, y_pred))\n",
    "print(confusion_matrix(y_test, y_pred))\n",
    "\n",
    "from sklearn.metrics import accuracy_score\n",
    "RFAcc = accuracy_score(y_pred,y_test)\n",
    "print('Random Forest accuracy is: {:.2f}%'.format(RFAcc*100))"
   ]
  },
  {
   "cell_type": "code",
   "execution_count": 107,
   "id": "ca3e4f8e",
   "metadata": {},
   "outputs": [
    {
     "data": {
      "text/html": [
       "<div>\n",
       "<style scoped>\n",
       "    .dataframe tbody tr th:only-of-type {\n",
       "        vertical-align: middle;\n",
       "    }\n",
       "\n",
       "    .dataframe tbody tr th {\n",
       "        vertical-align: top;\n",
       "    }\n",
       "\n",
       "    .dataframe thead th {\n",
       "        text-align: right;\n",
       "    }\n",
       "</style>\n",
       "<table border=\"1\" class=\"dataframe\">\n",
       "  <thead>\n",
       "    <tr style=\"text-align: right;\">\n",
       "      <th></th>\n",
       "      <th>Model</th>\n",
       "      <th>Accuracy</th>\n",
       "    </tr>\n",
       "  </thead>\n",
       "  <tbody>\n",
       "    <tr>\n",
       "      <th>2</th>\n",
       "      <td>SVM</td>\n",
       "      <td>98.333333</td>\n",
       "    </tr>\n",
       "    <tr>\n",
       "      <th>3</th>\n",
       "      <td>Categorical NB</td>\n",
       "      <td>98.333333</td>\n",
       "    </tr>\n",
       "    <tr>\n",
       "      <th>4</th>\n",
       "      <td>Gaussian NB</td>\n",
       "      <td>98.333333</td>\n",
       "    </tr>\n",
       "    <tr>\n",
       "      <th>6</th>\n",
       "      <td>Random Forest</td>\n",
       "      <td>98.333333</td>\n",
       "    </tr>\n",
       "    <tr>\n",
       "      <th>0</th>\n",
       "      <td>Logistic Regression</td>\n",
       "      <td>96.666667</td>\n",
       "    </tr>\n",
       "    <tr>\n",
       "      <th>5</th>\n",
       "      <td>Decision Tree</td>\n",
       "      <td>96.666667</td>\n",
       "    </tr>\n",
       "    <tr>\n",
       "      <th>1</th>\n",
       "      <td>K Neighbors</td>\n",
       "      <td>95.000000</td>\n",
       "    </tr>\n",
       "  </tbody>\n",
       "</table>\n",
       "</div>"
      ],
      "text/plain": [
       "                 Model   Accuracy\n",
       "2                  SVM  98.333333\n",
       "3       Categorical NB  98.333333\n",
       "4          Gaussian NB  98.333333\n",
       "6        Random Forest  98.333333\n",
       "0  Logistic Regression  96.666667\n",
       "5        Decision Tree  96.666667\n",
       "1          K Neighbors  95.000000"
      ]
     },
     "execution_count": 107,
     "metadata": {},
     "output_type": "execute_result"
    }
   ],
   "source": [
    "compare = pd.DataFrame({'Model': ['Logistic Regression', 'K Neighbors', 'SVM', 'Categorical NB', 'Gaussian NB', 'Decision Tree', 'Random Forest'], \n",
    "                        'Accuracy': [LRAcc*100, KNAcc*100, SVCAcc*100, NBAcc1*100, NBAcc2*100, DTAcc*100, RFAcc*100]})\n",
    "compare.sort_values(by='Accuracy', ascending=False)"
   ]
  },
  {
   "cell_type": "code",
   "execution_count": null,
   "id": "179dfaaf",
   "metadata": {},
   "outputs": [],
   "source": []
  }
 ],
 "metadata": {
  "kernelspec": {
   "display_name": "Python 3 (ipykernel)",
   "language": "python",
   "name": "python3"
  },
  "language_info": {
   "codemirror_mode": {
    "name": "ipython",
    "version": 3
   },
   "file_extension": ".py",
   "mimetype": "text/x-python",
   "name": "python",
   "nbconvert_exporter": "python",
   "pygments_lexer": "ipython3",
   "version": "3.9.7"
  }
 },
 "nbformat": 4,
 "nbformat_minor": 5
}
